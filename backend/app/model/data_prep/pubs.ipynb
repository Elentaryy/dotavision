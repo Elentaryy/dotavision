{
 "cells": [
  {
   "cell_type": "code",
   "execution_count": 2,
   "id": "8024ea07",
   "metadata": {},
   "outputs": [],
   "source": [
    "import pandas as pd\n"
   ]
  },
  {
   "cell_type": "code",
   "execution_count": 3,
   "id": "9330517b",
   "metadata": {},
   "outputs": [],
   "source": [
    "df = pd.read_csv('data/immortal_games.csv')"
   ]
  },
  {
   "cell_type": "code",
   "execution_count": 4,
   "id": "529536be",
   "metadata": {},
   "outputs": [
    {
     "data": {
      "text/plain": [
       "(677950, 14)"
      ]
     },
     "execution_count": 4,
     "metadata": {},
     "output_type": "execute_result"
    }
   ],
   "source": [
    "df.shape"
   ]
  },
  {
   "cell_type": "code",
   "execution_count": 5,
   "id": "2439bd71",
   "metadata": {},
   "outputs": [
    {
     "data": {
      "text/plain": [
       "match_id             0\n",
       "match_seq_num        0\n",
       "radiant_win          0\n",
       "start_time           0\n",
       "duration             0\n",
       "avg_mmr          63885\n",
       "num_mmr          63885\n",
       "lobby_type           0\n",
       "game_mode            0\n",
       "avg_rank_tier        0\n",
       "num_rank_tier        0\n",
       "cluster              0\n",
       "radiant_team         0\n",
       "dire_team            0\n",
       "dtype: int64"
      ]
     },
     "execution_count": 5,
     "metadata": {},
     "output_type": "execute_result"
    }
   ],
   "source": [
    "df.isna().sum()"
   ]
  },
  {
   "cell_type": "code",
   "execution_count": 6,
   "id": "a7478a35",
   "metadata": {},
   "outputs": [],
   "source": [
    "df = df.drop(columns = ['avg_mmr', 'num_mmr'])"
   ]
  },
  {
   "cell_type": "code",
   "execution_count": 7,
   "id": "3d968d1a",
   "metadata": {},
   "outputs": [],
   "source": [
    "df = df[['match_id', 'start_time', 'duration', 'game_mode', 'avg_rank_tier', 'radiant_team', 'dire_team', 'radiant_win']]"
   ]
  },
  {
   "cell_type": "code",
   "execution_count": 8,
   "id": "b72b3347",
   "metadata": {},
   "outputs": [],
   "source": [
    "df = df.drop_duplicates()"
   ]
  },
  {
   "cell_type": "code",
   "execution_count": 9,
   "id": "9c76f547",
   "metadata": {},
   "outputs": [
    {
     "data": {
      "text/html": [
       "<div>\n",
       "<style scoped>\n",
       "    .dataframe tbody tr th:only-of-type {\n",
       "        vertical-align: middle;\n",
       "    }\n",
       "\n",
       "    .dataframe tbody tr th {\n",
       "        vertical-align: top;\n",
       "    }\n",
       "\n",
       "    .dataframe thead th {\n",
       "        text-align: right;\n",
       "    }\n",
       "</style>\n",
       "<table border=\"1\" class=\"dataframe\">\n",
       "  <thead>\n",
       "    <tr style=\"text-align: right;\">\n",
       "      <th></th>\n",
       "      <th>match_id</th>\n",
       "      <th>start_time</th>\n",
       "      <th>duration</th>\n",
       "      <th>game_mode</th>\n",
       "      <th>avg_rank_tier</th>\n",
       "      <th>radiant_team</th>\n",
       "      <th>dire_team</th>\n",
       "      <th>radiant_win</th>\n",
       "    </tr>\n",
       "  </thead>\n",
       "  <tbody>\n",
       "    <tr>\n",
       "      <th>0</th>\n",
       "      <td>7219927210</td>\n",
       "      <td>1687975187</td>\n",
       "      <td>3708</td>\n",
       "      <td>22</td>\n",
       "      <td>81</td>\n",
       "      <td>9,128,2,114,121</td>\n",
       "      <td>105,120,10,61,100</td>\n",
       "      <td>True</td>\n",
       "    </tr>\n",
       "    <tr>\n",
       "      <th>1</th>\n",
       "      <td>7219928100</td>\n",
       "      <td>1687975232</td>\n",
       "      <td>1519</td>\n",
       "      <td>22</td>\n",
       "      <td>81</td>\n",
       "      <td>128,22,63,120,71</td>\n",
       "      <td>58,106,56,40,44</td>\n",
       "      <td>True</td>\n",
       "    </tr>\n",
       "    <tr>\n",
       "      <th>2</th>\n",
       "      <td>7219928202</td>\n",
       "      <td>1687975232</td>\n",
       "      <td>1315</td>\n",
       "      <td>22</td>\n",
       "      <td>81</td>\n",
       "      <td>78,40,23,11,31</td>\n",
       "      <td>9,1,25,20,103</td>\n",
       "      <td>True</td>\n",
       "    </tr>\n",
       "    <tr>\n",
       "      <th>3</th>\n",
       "      <td>7219928405</td>\n",
       "      <td>1687975228</td>\n",
       "      <td>1781</td>\n",
       "      <td>22</td>\n",
       "      <td>81</td>\n",
       "      <td>90,2,8,64,82</td>\n",
       "      <td>104,40,89,76,71</td>\n",
       "      <td>True</td>\n",
       "    </tr>\n",
       "    <tr>\n",
       "      <th>4</th>\n",
       "      <td>7219932418</td>\n",
       "      <td>1687975442</td>\n",
       "      <td>2059</td>\n",
       "      <td>22</td>\n",
       "      <td>81</td>\n",
       "      <td>31,62,35,18,129</td>\n",
       "      <td>11,120,86,61,17</td>\n",
       "      <td>True</td>\n",
       "    </tr>\n",
       "  </tbody>\n",
       "</table>\n",
       "</div>"
      ],
      "text/plain": [
       "     match_id  start_time  duration  game_mode  avg_rank_tier  \\\n",
       "0  7219927210  1687975187      3708         22             81   \n",
       "1  7219928100  1687975232      1519         22             81   \n",
       "2  7219928202  1687975232      1315         22             81   \n",
       "3  7219928405  1687975228      1781         22             81   \n",
       "4  7219932418  1687975442      2059         22             81   \n",
       "\n",
       "       radiant_team          dire_team  radiant_win  \n",
       "0   9,128,2,114,121  105,120,10,61,100         True  \n",
       "1  128,22,63,120,71    58,106,56,40,44         True  \n",
       "2    78,40,23,11,31      9,1,25,20,103         True  \n",
       "3      90,2,8,64,82    104,40,89,76,71         True  \n",
       "4   31,62,35,18,129    11,120,86,61,17         True  "
      ]
     },
     "execution_count": 9,
     "metadata": {},
     "output_type": "execute_result"
    }
   ],
   "source": [
    "df.head(5)"
   ]
  },
  {
   "cell_type": "code",
   "execution_count": 10,
   "id": "4d27a8c4",
   "metadata": {},
   "outputs": [],
   "source": [
    "duplicates = df.groupby('match_id').filter(lambda x: len(x) > 1)\n",
    "\n",
    "duplicate_match_ids = duplicates['match_id'].unique()"
   ]
  },
  {
   "cell_type": "code",
   "execution_count": 11,
   "id": "d514b11d",
   "metadata": {},
   "outputs": [
    {
     "data": {
      "text/plain": [
       "array([7193476915, 7193485005, 7193486103, ..., 6918964503, 6918966212,\n",
       "       6918968613], dtype=int64)"
      ]
     },
     "execution_count": 11,
     "metadata": {},
     "output_type": "execute_result"
    }
   ],
   "source": [
    "duplicate_match_ids"
   ]
  },
  {
   "cell_type": "code",
   "execution_count": 13,
   "id": "67c22d3d",
   "metadata": {},
   "outputs": [
    {
     "data": {
      "text/html": [
       "<div>\n",
       "<style scoped>\n",
       "    .dataframe tbody tr th:only-of-type {\n",
       "        vertical-align: middle;\n",
       "    }\n",
       "\n",
       "    .dataframe tbody tr th {\n",
       "        vertical-align: top;\n",
       "    }\n",
       "\n",
       "    .dataframe thead th {\n",
       "        text-align: right;\n",
       "    }\n",
       "</style>\n",
       "<table border=\"1\" class=\"dataframe\">\n",
       "  <thead>\n",
       "    <tr style=\"text-align: right;\">\n",
       "      <th></th>\n",
       "      <th>match_id</th>\n",
       "      <th>start_time</th>\n",
       "      <th>duration</th>\n",
       "      <th>game_mode</th>\n",
       "      <th>avg_rank_tier</th>\n",
       "      <th>radiant_team</th>\n",
       "      <th>dire_team</th>\n",
       "      <th>radiant_win</th>\n",
       "    </tr>\n",
       "  </thead>\n",
       "  <tbody>\n",
       "    <tr>\n",
       "      <th>3000</th>\n",
       "      <td>7193476915</td>\n",
       "      <td>1686359232</td>\n",
       "      <td>4057</td>\n",
       "      <td>22</td>\n",
       "      <td>81</td>\n",
       "      <td>114,112,34,87,2</td>\n",
       "      <td>12,105,22,40,102</td>\n",
       "      <td>False</td>\n",
       "    </tr>\n",
       "    <tr>\n",
       "      <th>3100</th>\n",
       "      <td>7193476915</td>\n",
       "      <td>1686359232</td>\n",
       "      <td>4057</td>\n",
       "      <td>22</td>\n",
       "      <td>81</td>\n",
       "      <td>2,114,87,34,112</td>\n",
       "      <td>102,12,40,22,105</td>\n",
       "      <td>False</td>\n",
       "    </tr>\n",
       "    <tr>\n",
       "      <th>3200</th>\n",
       "      <td>7193476915</td>\n",
       "      <td>1686359232</td>\n",
       "      <td>4057</td>\n",
       "      <td>22</td>\n",
       "      <td>81</td>\n",
       "      <td>2,34,87,114,112</td>\n",
       "      <td>102,22,40,12,105</td>\n",
       "      <td>False</td>\n",
       "    </tr>\n",
       "    <tr>\n",
       "      <th>3400</th>\n",
       "      <td>7193476915</td>\n",
       "      <td>1686359232</td>\n",
       "      <td>4057</td>\n",
       "      <td>22</td>\n",
       "      <td>81</td>\n",
       "      <td>114,2,112,34,87</td>\n",
       "      <td>12,102,105,22,40</td>\n",
       "      <td>False</td>\n",
       "    </tr>\n",
       "    <tr>\n",
       "      <th>3600</th>\n",
       "      <td>7193476915</td>\n",
       "      <td>1686359232</td>\n",
       "      <td>4057</td>\n",
       "      <td>22</td>\n",
       "      <td>81</td>\n",
       "      <td>2,112,34,87,114</td>\n",
       "      <td>102,105,22,40,12</td>\n",
       "      <td>False</td>\n",
       "    </tr>\n",
       "  </tbody>\n",
       "</table>\n",
       "</div>"
      ],
      "text/plain": [
       "        match_id  start_time  duration  game_mode  avg_rank_tier  \\\n",
       "3000  7193476915  1686359232      4057         22             81   \n",
       "3100  7193476915  1686359232      4057         22             81   \n",
       "3200  7193476915  1686359232      4057         22             81   \n",
       "3400  7193476915  1686359232      4057         22             81   \n",
       "3600  7193476915  1686359232      4057         22             81   \n",
       "\n",
       "         radiant_team         dire_team  radiant_win  \n",
       "3000  114,112,34,87,2  12,105,22,40,102        False  \n",
       "3100  2,114,87,34,112  102,12,40,22,105        False  \n",
       "3200  2,34,87,114,112  102,22,40,12,105        False  \n",
       "3400  114,2,112,34,87  12,102,105,22,40        False  \n",
       "3600  2,112,34,87,114  102,105,22,40,12        False  "
      ]
     },
     "execution_count": 13,
     "metadata": {},
     "output_type": "execute_result"
    }
   ],
   "source": [
    "df[df['match_id'] == 7193476915].head(5)"
   ]
  },
  {
   "cell_type": "code",
   "execution_count": 14,
   "id": "0e7495e3",
   "metadata": {},
   "outputs": [],
   "source": [
    "df['radiant_team'] = df['radiant_team'].apply(lambda x: frozenset(map(int, x.split(','))))"
   ]
  },
  {
   "cell_type": "code",
   "execution_count": 15,
   "id": "2dbbd0c8",
   "metadata": {},
   "outputs": [],
   "source": [
    "df['dire_team'] = df['dire_team'].apply(lambda x: frozenset(map(int, x.split(','))))"
   ]
  },
  {
   "cell_type": "code",
   "execution_count": 16,
   "id": "3e5412d1",
   "metadata": {},
   "outputs": [],
   "source": [
    "df = df.drop_duplicates(subset=['match_id', 'radiant_team'])"
   ]
  },
  {
   "cell_type": "code",
   "execution_count": 22,
   "id": "a7daf67c",
   "metadata": {},
   "outputs": [
    {
     "data": {
      "text/plain": [
       "40079"
      ]
     },
     "execution_count": 22,
     "metadata": {},
     "output_type": "execute_result"
    }
   ],
   "source": [
    "len(df)"
   ]
  },
  {
   "cell_type": "code",
   "execution_count": 19,
   "id": "0c567c97",
   "metadata": {},
   "outputs": [],
   "source": [
    "df['radiant_team'] = df['radiant_team'].apply(lambda x: list(x))"
   ]
  },
  {
   "cell_type": "code",
   "execution_count": 20,
   "id": "65898ba1",
   "metadata": {},
   "outputs": [],
   "source": [
    "df['dire_team'] = df['dire_team'].apply(lambda x: list(x))"
   ]
  },
  {
   "cell_type": "code",
   "execution_count": 45,
   "id": "550f8623",
   "metadata": {},
   "outputs": [],
   "source": [
    "df = df[['match_id', 'start_time', 'duration', 'game_mode', 'avg_rank_tier', 'radiant_team', 'dire_team', 'radiant_win']]"
   ]
  },
  {
   "cell_type": "code",
   "execution_count": null,
   "id": "c02f4091",
   "metadata": {},
   "outputs": [],
   "source": [
    "df.to_csv('data/immortal_games_v2.csv', index=False)"
   ]
  }
 ],
 "metadata": {
  "kernelspec": {
   "display_name": "Python 3 (ipykernel)",
   "language": "python",
   "name": "python3"
  },
  "language_info": {
   "codemirror_mode": {
    "name": "ipython",
    "version": 3
   },
   "file_extension": ".py",
   "mimetype": "text/x-python",
   "name": "python",
   "nbconvert_exporter": "python",
   "pygments_lexer": "ipython3",
   "version": "3.10.11"
  }
 },
 "nbformat": 4,
 "nbformat_minor": 5
}
