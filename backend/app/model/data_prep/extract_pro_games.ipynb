{
 "cells": [
  {
   "cell_type": "code",
   "execution_count": 1,
   "id": "3d7cddde",
   "metadata": {},
   "outputs": [],
   "source": [
    "import pandas as pd\n",
    "import numpy as np\n",
    "import matplotlib.pyplot as plt\n",
    "import requests\n",
    "import logging\n",
    "from time import sleep\n",
    "import os\n",
    "from dotenv import load_dotenv"
   ]
  },
  {
   "cell_type": "code",
   "execution_count": 2,
   "id": "4376f940",
   "metadata": {},
   "outputs": [
    {
     "data": {
      "text/plain": [
       "True"
      ]
     },
     "execution_count": 2,
     "metadata": {},
     "output_type": "execute_result"
    }
   ],
   "source": [
    "load_dotenv()"
   ]
  },
  {
   "cell_type": "code",
   "execution_count": 3,
   "id": "a7a478b1",
   "metadata": {},
   "outputs": [],
   "source": [
    "logger = logging.getLogger('pro_data_extraction')"
   ]
  },
  {
   "cell_type": "code",
   "execution_count": 4,
   "id": "b2b63ada",
   "metadata": {},
   "outputs": [],
   "source": [
    "import warnings\n",
    "warnings.filterwarnings('ignore')"
   ]
  },
  {
   "cell_type": "code",
   "execution_count": 5,
   "id": "f9881572",
   "metadata": {},
   "outputs": [],
   "source": [
    "API_KEY = os.getenv('STEAM_API_KEY')"
   ]
  },
  {
   "cell_type": "code",
   "execution_count": 62,
   "id": "93267c65",
   "metadata": {},
   "outputs": [],
   "source": [
    "#Extract game ids from all professional leagues\n",
    "from time import sleep\n",
    "\n",
    "API_URL = 'https://api.opendota.com/api'\n",
    "\n",
    "def get_pro_matches(initial_match_id, total_matches):\n",
    "    params = {\n",
    "        \"lobby_type\": 1,  \n",
    "        \"limit\": 100,\n",
    "        \"less_than_match_id\": initial_match_id\n",
    "    }\n",
    "\n",
    "    matches_per_request = params[\"limit\"]\n",
    "    num_requests = total_matches // matches_per_request\n",
    "\n",
    "    df = pd.DataFrame()\n",
    "\n",
    "    for i in range(num_requests):\n",
    "        sleep(1)\n",
    "        try:\n",
    "            response = requests.get(f'{API_URL}/proMatches', params=params)\n",
    "\n",
    "            if response.status_code == 200:\n",
    "                data = response.json()\n",
    "\n",
    "                match_ids =  [match['match_id'] for match in data]\n",
    "                match_df = pd.DataFrame({\n",
    "                    \"match_id\": match_ids\n",
    "                })\n",
    "                df = pd.concat((df, match_df))\n",
    "                \n",
    "                if data:\n",
    "                    params[\"less_than_match_id\"] = data[-1]['match_id']\n",
    "                else:\n",
    "                    logger.info(f'No matches returned by API request')\n",
    "                    break\n",
    "            else:\n",
    "                logger.info(f'Something went wrong while requesting opendota API {response.status_code}, {response.text}')\n",
    "                break  \n",
    "        except Exception as e:\n",
    "            logger.info(f'Something went wrong {str(e)}')\n",
    "            break \n",
    "\n",
    "        if len(df) >= total_matches:\n",
    "            break\n",
    "\n",
    "    df['match_id'] = df['match_id'].astype('Int64')\n",
    "    return df\n",
    "    "
   ]
  },
  {
   "cell_type": "code",
   "execution_count": null,
   "id": "74bb788b",
   "metadata": {},
   "outputs": [],
   "source": [
    "df_matches = get_pro_matches(7258005870, 15000)"
   ]
  },
  {
   "cell_type": "code",
   "execution_count": 64,
   "id": "869ddaac",
   "metadata": {},
   "outputs": [
    {
     "data": {
      "text/html": [
       "<div>\n",
       "<style scoped>\n",
       "    .dataframe tbody tr th:only-of-type {\n",
       "        vertical-align: middle;\n",
       "    }\n",
       "\n",
       "    .dataframe tbody tr th {\n",
       "        vertical-align: top;\n",
       "    }\n",
       "\n",
       "    .dataframe thead th {\n",
       "        text-align: right;\n",
       "    }\n",
       "</style>\n",
       "<table border=\"1\" class=\"dataframe\">\n",
       "  <thead>\n",
       "    <tr style=\"text-align: right;\">\n",
       "      <th></th>\n",
       "      <th>match_id</th>\n",
       "    </tr>\n",
       "  </thead>\n",
       "  <tbody>\n",
       "    <tr>\n",
       "      <th>0</th>\n",
       "      <td>6652712454</td>\n",
       "    </tr>\n",
       "    <tr>\n",
       "      <th>1</th>\n",
       "      <td>6652699293</td>\n",
       "    </tr>\n",
       "    <tr>\n",
       "      <th>2</th>\n",
       "      <td>6652690901</td>\n",
       "    </tr>\n",
       "    <tr>\n",
       "      <th>3</th>\n",
       "      <td>6652662461</td>\n",
       "    </tr>\n",
       "    <tr>\n",
       "      <th>4</th>\n",
       "      <td>6652639756</td>\n",
       "    </tr>\n",
       "    <tr>\n",
       "      <th>5</th>\n",
       "      <td>6652620894</td>\n",
       "    </tr>\n",
       "    <tr>\n",
       "      <th>6</th>\n",
       "      <td>6652608810</td>\n",
       "    </tr>\n",
       "    <tr>\n",
       "      <th>7</th>\n",
       "      <td>6652579617</td>\n",
       "    </tr>\n",
       "    <tr>\n",
       "      <th>8</th>\n",
       "      <td>6652561542</td>\n",
       "    </tr>\n",
       "    <tr>\n",
       "      <th>9</th>\n",
       "      <td>6652559165</td>\n",
       "    </tr>\n",
       "  </tbody>\n",
       "</table>\n",
       "</div>"
      ],
      "text/plain": [
       "     match_id\n",
       "0  6652712454\n",
       "1  6652699293\n",
       "2  6652690901\n",
       "3  6652662461\n",
       "4  6652639756\n",
       "5  6652620894\n",
       "6  6652608810\n",
       "7  6652579617\n",
       "8  6652561542\n",
       "9  6652559165"
      ]
     },
     "execution_count": 64,
     "metadata": {},
     "output_type": "execute_result"
    }
   ],
   "source": [
    "df_matches.head(10)"
   ]
  },
  {
   "cell_type": "code",
   "execution_count": 65,
   "id": "3d40ff2b",
   "metadata": {},
   "outputs": [
    {
     "data": {
      "text/plain": [
       "15000"
      ]
     },
     "execution_count": 65,
     "metadata": {},
     "output_type": "execute_result"
    }
   ],
   "source": [
    "len(df_matches)"
   ]
  },
  {
   "cell_type": "code",
   "execution_count": 66,
   "id": "3fe1948d",
   "metadata": {},
   "outputs": [],
   "source": [
    "API_URL = f\"https://api.steampowered.com/IDOTA2Match_570/GetMatchDetails/v1/?key={API_KEY}\"\n",
    "\n",
    "def get_match_details(match_id: int):\n",
    "    url = f\"{API_URL}&match_id={match_id}\"\n",
    "    try:\n",
    "        response = requests.get(url)\n",
    "        if response.status_code == 200:\n",
    "            match_data = response.json()\n",
    "            return match_data\n",
    "        else:\n",
    "            logger.error(f\"Error occurred while fetching match details for match ID {match_id}, {response.status_code}, {response.text}.\")\n",
    "            return None\n",
    "    except:\n",
    "        logger.error(f'{response.status_code}')\n",
    "        return None\n",
    "\n",
    "def process_matches(df: pd.DataFrame) -> pd.DataFrame:\n",
    "    data_list = []\n",
    "\n",
    "    for index, row in df.iterrows():\n",
    "        sleep(0.1)\n",
    "        match_id = row[\"match_id\"]\n",
    "        try:\n",
    "            match_data = get_match_details(match_id)\n",
    "        except Exception as e: \n",
    "            logger.error(f'Error while executing get_match_details {str(e)}')\n",
    "\n",
    "        if match_data:\n",
    "            data_list.append(match_data) \n",
    "        else:\n",
    "            data_list.append(None)\n",
    "    df[\"data\"] = data_list\n",
    "\n",
    "    return df"
   ]
  },
  {
   "cell_type": "code",
   "execution_count": 67,
   "id": "af88c660",
   "metadata": {},
   "outputs": [],
   "source": [
    "df_with_details = process_matches(df_test)"
   ]
  },
  {
   "cell_type": "code",
   "execution_count": 68,
   "id": "59e794c3",
   "metadata": {},
   "outputs": [
    {
     "data": {
      "text/html": [
       "<div>\n",
       "<style scoped>\n",
       "    .dataframe tbody tr th:only-of-type {\n",
       "        vertical-align: middle;\n",
       "    }\n",
       "\n",
       "    .dataframe tbody tr th {\n",
       "        vertical-align: top;\n",
       "    }\n",
       "\n",
       "    .dataframe thead th {\n",
       "        text-align: right;\n",
       "    }\n",
       "</style>\n",
       "<table border=\"1\" class=\"dataframe\">\n",
       "  <thead>\n",
       "    <tr style=\"text-align: right;\">\n",
       "      <th></th>\n",
       "      <th>match_id</th>\n",
       "      <th>data</th>\n",
       "    </tr>\n",
       "  </thead>\n",
       "  <tbody>\n",
       "    <tr>\n",
       "      <th>0</th>\n",
       "      <td>6652712454</td>\n",
       "      <td>{'result': {'players': [{'account_id': 1251984...</td>\n",
       "    </tr>\n",
       "    <tr>\n",
       "      <th>1</th>\n",
       "      <td>6652699293</td>\n",
       "      <td>{'result': {'players': [{'account_id': 2941354...</td>\n",
       "    </tr>\n",
       "    <tr>\n",
       "      <th>2</th>\n",
       "      <td>6652690901</td>\n",
       "      <td>{'result': {'players': [{'account_id': 1345566...</td>\n",
       "    </tr>\n",
       "    <tr>\n",
       "      <th>3</th>\n",
       "      <td>6652662461</td>\n",
       "      <td>{'result': {'players': [{'account_id': 1645308...</td>\n",
       "    </tr>\n",
       "    <tr>\n",
       "      <th>4</th>\n",
       "      <td>6652639756</td>\n",
       "      <td>{'result': {'players': [{'account_id': 1981611...</td>\n",
       "    </tr>\n",
       "    <tr>\n",
       "      <th>5</th>\n",
       "      <td>6652620894</td>\n",
       "      <td>{'result': {'players': [{'account_id': 1210331...</td>\n",
       "    </tr>\n",
       "    <tr>\n",
       "      <th>6</th>\n",
       "      <td>6652608810</td>\n",
       "      <td>{'result': {'players': [{'account_id': 2941354...</td>\n",
       "    </tr>\n",
       "    <tr>\n",
       "      <th>7</th>\n",
       "      <td>6652579617</td>\n",
       "      <td>{'result': {'players': [{'account_id': 1083977...</td>\n",
       "    </tr>\n",
       "    <tr>\n",
       "      <th>8</th>\n",
       "      <td>6652561542</td>\n",
       "      <td>{'result': {'players': [{'account_id': 1404110...</td>\n",
       "    </tr>\n",
       "    <tr>\n",
       "      <th>9</th>\n",
       "      <td>6652559165</td>\n",
       "      <td>{'result': {'players': [{'account_id': 1399765...</td>\n",
       "    </tr>\n",
       "  </tbody>\n",
       "</table>\n",
       "</div>"
      ],
      "text/plain": [
       "     match_id                                               data\n",
       "0  6652712454  {'result': {'players': [{'account_id': 1251984...\n",
       "1  6652699293  {'result': {'players': [{'account_id': 2941354...\n",
       "2  6652690901  {'result': {'players': [{'account_id': 1345566...\n",
       "3  6652662461  {'result': {'players': [{'account_id': 1645308...\n",
       "4  6652639756  {'result': {'players': [{'account_id': 1981611...\n",
       "5  6652620894  {'result': {'players': [{'account_id': 1210331...\n",
       "6  6652608810  {'result': {'players': [{'account_id': 2941354...\n",
       "7  6652579617  {'result': {'players': [{'account_id': 1083977...\n",
       "8  6652561542  {'result': {'players': [{'account_id': 1404110...\n",
       "9  6652559165  {'result': {'players': [{'account_id': 1399765..."
      ]
     },
     "execution_count": 68,
     "metadata": {},
     "output_type": "execute_result"
    }
   ],
   "source": [
    "df_with_details.head(10)"
   ]
  },
  {
   "cell_type": "code",
   "execution_count": 70,
   "id": "7ea4cce1",
   "metadata": {},
   "outputs": [],
   "source": [
    "df_with_details['match_id'] = df_with_details['data'].apply(lambda x: x['result'].get('match_id'))"
   ]
  },
  {
   "cell_type": "code",
   "execution_count": 71,
   "id": "25cafada",
   "metadata": {},
   "outputs": [],
   "source": [
    "df_with_details['series_id'] = None\n",
    "df_with_details['is_live'] = False"
   ]
  },
  {
   "cell_type": "code",
   "execution_count": 72,
   "id": "faf26ff9",
   "metadata": {},
   "outputs": [
    {
     "data": {
      "text/plain": [
       "match_id         0\n",
       "data             0\n",
       "series_id    15000\n",
       "is_live          0\n",
       "dtype: int64"
      ]
     },
     "execution_count": 72,
     "metadata": {},
     "output_type": "execute_result"
    }
   ],
   "source": [
    "df_with_details.isna().sum()"
   ]
  },
  {
   "cell_type": "code",
   "execution_count": 73,
   "id": "91abb492",
   "metadata": {},
   "outputs": [
    {
     "data": {
      "text/plain": [
       "15000"
      ]
     },
     "execution_count": 73,
     "metadata": {},
     "output_type": "execute_result"
    }
   ],
   "source": [
    "len(df_with_details)"
   ]
  },
  {
   "cell_type": "code",
   "execution_count": 74,
   "id": "4b332a4d",
   "metadata": {},
   "outputs": [],
   "source": [
    "df_with_details['match_data'] = df_with_details['data']"
   ]
  },
  {
   "cell_type": "code",
   "execution_count": 75,
   "id": "31e095e7",
   "metadata": {},
   "outputs": [],
   "source": [
    "db_name = os.getenv('POSTGRES_DB')\n",
    "user = os.getenv('POSTGRES_USER')\n",
    "password = os.getenv('POSTGRES_PASSWORD')\n",
    "host = 'localhost'\n",
    "port = '5432'"
   ]
  },
  {
   "cell_type": "code",
   "execution_count": 85,
   "id": "f8e3476a",
   "metadata": {},
   "outputs": [],
   "source": [
    "import psycopg2\n",
    "conn = psycopg2.connect(dbname=db_name, user=user, password=password, host=host, port=port)"
   ]
  },
  {
   "cell_type": "code",
   "execution_count": 77,
   "id": "9e439483",
   "metadata": {},
   "outputs": [],
   "source": [
    "df_with_details = df_with_details[['match_id', 'series_id', 'match_data', 'is_live']]"
   ]
  },
  {
   "cell_type": "code",
   "execution_count": 78,
   "id": "d5c00ffc",
   "metadata": {},
   "outputs": [
    {
     "data": {
      "text/html": [
       "<div>\n",
       "<style scoped>\n",
       "    .dataframe tbody tr th:only-of-type {\n",
       "        vertical-align: middle;\n",
       "    }\n",
       "\n",
       "    .dataframe tbody tr th {\n",
       "        vertical-align: top;\n",
       "    }\n",
       "\n",
       "    .dataframe thead th {\n",
       "        text-align: right;\n",
       "    }\n",
       "</style>\n",
       "<table border=\"1\" class=\"dataframe\">\n",
       "  <thead>\n",
       "    <tr style=\"text-align: right;\">\n",
       "      <th></th>\n",
       "      <th>match_id</th>\n",
       "      <th>series_id</th>\n",
       "      <th>match_data</th>\n",
       "      <th>is_live</th>\n",
       "    </tr>\n",
       "  </thead>\n",
       "  <tbody>\n",
       "    <tr>\n",
       "      <th>0</th>\n",
       "      <td>6652712454</td>\n",
       "      <td>None</td>\n",
       "      <td>{'result': {'players': [{'account_id': 1251984...</td>\n",
       "      <td>False</td>\n",
       "    </tr>\n",
       "    <tr>\n",
       "      <th>1</th>\n",
       "      <td>6652699293</td>\n",
       "      <td>None</td>\n",
       "      <td>{'result': {'players': [{'account_id': 2941354...</td>\n",
       "      <td>False</td>\n",
       "    </tr>\n",
       "    <tr>\n",
       "      <th>2</th>\n",
       "      <td>6652690901</td>\n",
       "      <td>None</td>\n",
       "      <td>{'result': {'players': [{'account_id': 1345566...</td>\n",
       "      <td>False</td>\n",
       "    </tr>\n",
       "    <tr>\n",
       "      <th>3</th>\n",
       "      <td>6652662461</td>\n",
       "      <td>None</td>\n",
       "      <td>{'result': {'players': [{'account_id': 1645308...</td>\n",
       "      <td>False</td>\n",
       "    </tr>\n",
       "    <tr>\n",
       "      <th>4</th>\n",
       "      <td>6652639756</td>\n",
       "      <td>None</td>\n",
       "      <td>{'result': {'players': [{'account_id': 1981611...</td>\n",
       "      <td>False</td>\n",
       "    </tr>\n",
       "    <tr>\n",
       "      <th>...</th>\n",
       "      <td>...</td>\n",
       "      <td>...</td>\n",
       "      <td>...</td>\n",
       "      <td>...</td>\n",
       "    </tr>\n",
       "    <tr>\n",
       "      <th>95</th>\n",
       "      <td>6288277706</td>\n",
       "      <td>None</td>\n",
       "      <td>{'result': {'players': [{'account_id': 9294909...</td>\n",
       "      <td>False</td>\n",
       "    </tr>\n",
       "    <tr>\n",
       "      <th>96</th>\n",
       "      <td>6288268302</td>\n",
       "      <td>None</td>\n",
       "      <td>{'result': {'players': [{'account_id': 9415515...</td>\n",
       "      <td>False</td>\n",
       "    </tr>\n",
       "    <tr>\n",
       "      <th>97</th>\n",
       "      <td>6288251510</td>\n",
       "      <td>None</td>\n",
       "      <td>{'result': {'players': [{'account_id': 9165458...</td>\n",
       "      <td>False</td>\n",
       "    </tr>\n",
       "    <tr>\n",
       "      <th>98</th>\n",
       "      <td>6288250862</td>\n",
       "      <td>None</td>\n",
       "      <td>{'result': {'players': [{'account_id': 2562697...</td>\n",
       "      <td>False</td>\n",
       "    </tr>\n",
       "    <tr>\n",
       "      <th>99</th>\n",
       "      <td>6288248981</td>\n",
       "      <td>None</td>\n",
       "      <td>{'result': {'players': [{'account_id': 1066403...</td>\n",
       "      <td>False</td>\n",
       "    </tr>\n",
       "  </tbody>\n",
       "</table>\n",
       "<p>15000 rows × 4 columns</p>\n",
       "</div>"
      ],
      "text/plain": [
       "      match_id series_id                                         match_data  \\\n",
       "0   6652712454      None  {'result': {'players': [{'account_id': 1251984...   \n",
       "1   6652699293      None  {'result': {'players': [{'account_id': 2941354...   \n",
       "2   6652690901      None  {'result': {'players': [{'account_id': 1345566...   \n",
       "3   6652662461      None  {'result': {'players': [{'account_id': 1645308...   \n",
       "4   6652639756      None  {'result': {'players': [{'account_id': 1981611...   \n",
       "..         ...       ...                                                ...   \n",
       "95  6288277706      None  {'result': {'players': [{'account_id': 9294909...   \n",
       "96  6288268302      None  {'result': {'players': [{'account_id': 9415515...   \n",
       "97  6288251510      None  {'result': {'players': [{'account_id': 9165458...   \n",
       "98  6288250862      None  {'result': {'players': [{'account_id': 2562697...   \n",
       "99  6288248981      None  {'result': {'players': [{'account_id': 1066403...   \n",
       "\n",
       "    is_live  \n",
       "0     False  \n",
       "1     False  \n",
       "2     False  \n",
       "3     False  \n",
       "4     False  \n",
       "..      ...  \n",
       "95    False  \n",
       "96    False  \n",
       "97    False  \n",
       "98    False  \n",
       "99    False  \n",
       "\n",
       "[15000 rows x 4 columns]"
      ]
     },
     "execution_count": 78,
     "metadata": {},
     "output_type": "execute_result"
    }
   ],
   "source": [
    "df_with_details.drop_duplicates(subset='match_id')"
   ]
  },
  {
   "cell_type": "code",
   "execution_count": 81,
   "id": "7d791f9d",
   "metadata": {},
   "outputs": [],
   "source": [
    "df_with_details['match_data'] = df_with_details['match_data'].apply(lambda x: x.get('result'))"
   ]
  },
  {
   "cell_type": "code",
   "execution_count": 86,
   "id": "2e327a71",
   "metadata": {},
   "outputs": [
    {
     "data": {
      "text/html": [
       "<div>\n",
       "<style scoped>\n",
       "    .dataframe tbody tr th:only-of-type {\n",
       "        vertical-align: middle;\n",
       "    }\n",
       "\n",
       "    .dataframe tbody tr th {\n",
       "        vertical-align: top;\n",
       "    }\n",
       "\n",
       "    .dataframe thead th {\n",
       "        text-align: right;\n",
       "    }\n",
       "</style>\n",
       "<table border=\"1\" class=\"dataframe\">\n",
       "  <thead>\n",
       "    <tr style=\"text-align: right;\">\n",
       "      <th></th>\n",
       "      <th>match_id</th>\n",
       "      <th>series_id</th>\n",
       "      <th>match_data</th>\n",
       "      <th>is_live</th>\n",
       "    </tr>\n",
       "  </thead>\n",
       "  <tbody>\n",
       "    <tr>\n",
       "      <th>0</th>\n",
       "      <td>6652712454</td>\n",
       "      <td>None</td>\n",
       "      <td>{'players': [{'account_id': 1251984026, 'playe...</td>\n",
       "      <td>False</td>\n",
       "    </tr>\n",
       "    <tr>\n",
       "      <th>1</th>\n",
       "      <td>6652699293</td>\n",
       "      <td>None</td>\n",
       "      <td>{'players': [{'account_id': 294135421, 'player...</td>\n",
       "      <td>False</td>\n",
       "    </tr>\n",
       "    <tr>\n",
       "      <th>2</th>\n",
       "      <td>6652690901</td>\n",
       "      <td>None</td>\n",
       "      <td>{'players': [{'account_id': 134556694, 'player...</td>\n",
       "      <td>False</td>\n",
       "    </tr>\n",
       "    <tr>\n",
       "      <th>3</th>\n",
       "      <td>6652662461</td>\n",
       "      <td>None</td>\n",
       "      <td>{'players': [{'account_id': 164530809, 'player...</td>\n",
       "      <td>False</td>\n",
       "    </tr>\n",
       "    <tr>\n",
       "      <th>4</th>\n",
       "      <td>6652639756</td>\n",
       "      <td>None</td>\n",
       "      <td>{'players': [{'account_id': 198161112, 'player...</td>\n",
       "      <td>False</td>\n",
       "    </tr>\n",
       "    <tr>\n",
       "      <th>...</th>\n",
       "      <td>...</td>\n",
       "      <td>...</td>\n",
       "      <td>...</td>\n",
       "      <td>...</td>\n",
       "    </tr>\n",
       "    <tr>\n",
       "      <th>95</th>\n",
       "      <td>6288277706</td>\n",
       "      <td>None</td>\n",
       "      <td>{'players': [{'account_id': 92949094, 'player_...</td>\n",
       "      <td>False</td>\n",
       "    </tr>\n",
       "    <tr>\n",
       "      <th>96</th>\n",
       "      <td>6288268302</td>\n",
       "      <td>None</td>\n",
       "      <td>{'players': [{'account_id': 94155156, 'player_...</td>\n",
       "      <td>False</td>\n",
       "    </tr>\n",
       "    <tr>\n",
       "      <th>97</th>\n",
       "      <td>6288251510</td>\n",
       "      <td>None</td>\n",
       "      <td>{'players': [{'account_id': 91654584, 'player_...</td>\n",
       "      <td>False</td>\n",
       "    </tr>\n",
       "    <tr>\n",
       "      <th>98</th>\n",
       "      <td>6288250862</td>\n",
       "      <td>None</td>\n",
       "      <td>{'players': [{'account_id': 256269737, 'player...</td>\n",
       "      <td>False</td>\n",
       "    </tr>\n",
       "    <tr>\n",
       "      <th>99</th>\n",
       "      <td>6288248981</td>\n",
       "      <td>None</td>\n",
       "      <td>{'players': [{'account_id': 106640387, 'player...</td>\n",
       "      <td>False</td>\n",
       "    </tr>\n",
       "  </tbody>\n",
       "</table>\n",
       "<p>15000 rows × 4 columns</p>\n",
       "</div>"
      ],
      "text/plain": [
       "      match_id series_id                                         match_data  \\\n",
       "0   6652712454      None  {'players': [{'account_id': 1251984026, 'playe...   \n",
       "1   6652699293      None  {'players': [{'account_id': 294135421, 'player...   \n",
       "2   6652690901      None  {'players': [{'account_id': 134556694, 'player...   \n",
       "3   6652662461      None  {'players': [{'account_id': 164530809, 'player...   \n",
       "4   6652639756      None  {'players': [{'account_id': 198161112, 'player...   \n",
       "..         ...       ...                                                ...   \n",
       "95  6288277706      None  {'players': [{'account_id': 92949094, 'player_...   \n",
       "96  6288268302      None  {'players': [{'account_id': 94155156, 'player_...   \n",
       "97  6288251510      None  {'players': [{'account_id': 91654584, 'player_...   \n",
       "98  6288250862      None  {'players': [{'account_id': 256269737, 'player...   \n",
       "99  6288248981      None  {'players': [{'account_id': 106640387, 'player...   \n",
       "\n",
       "    is_live  \n",
       "0     False  \n",
       "1     False  \n",
       "2     False  \n",
       "3     False  \n",
       "4     False  \n",
       "..      ...  \n",
       "95    False  \n",
       "96    False  \n",
       "97    False  \n",
       "98    False  \n",
       "99    False  \n",
       "\n",
       "[15000 rows x 4 columns]"
      ]
     },
     "execution_count": 86,
     "metadata": {},
     "output_type": "execute_result"
    }
   ],
   "source": [
    "df_with_details"
   ]
  },
  {
   "cell_type": "code",
   "execution_count": 87,
   "id": "1a24d02e",
   "metadata": {},
   "outputs": [],
   "source": [
    "import json"
   ]
  },
  {
   "cell_type": "code",
   "execution_count": 88,
   "id": "b3eb6995",
   "metadata": {},
   "outputs": [],
   "source": [
    "cur = conn.cursor()\n",
    "\n",
    "data = df_with_details.to_dict('records')\n",
    "\n",
    "table = 'dota_dds.pro_matches'\n",
    "cols = ','.join(list(data[0].keys()))\n",
    "vals = ', '.join(['%s'] * len(data[0]))\n",
    "query = f\"INSERT INTO {table}({cols}) VALUES ({vals})\"\n",
    "\n",
    "cur.executemany(query, [tuple(json.dumps(d[col]) if isinstance(d[col], dict) else d[col] for col in df_with_details.columns) for d in data])\n",
    "\n",
    "conn.commit()\n",
    "cur.close()\n",
    "conn.close()"
   ]
  },
  {
   "cell_type": "code",
   "execution_count": 90,
   "id": "8aed59e7",
   "metadata": {},
   "outputs": [],
   "source": [
    "API_URL = f\"http://api.steampowered.com/IEconDOTA2_570/GetHeroes/v1?key={API_KEY}\"\n",
    "\n",
    "response = requests.get(API_URL)\n",
    "\n",
    "if response.status_code == 200:\n",
    "    data = response.json()\n",
    "    heroes = data[\"result\"][\"heroes\"]\n",
    "\n",
    "else:\n",
    "    print(\"Error occurred while fetching hero data.\")\n"
   ]
  },
  {
   "cell_type": "code",
   "execution_count": 93,
   "id": "3e5bb805",
   "metadata": {},
   "outputs": [
    {
     "data": {
      "text/plain": [
       "[{'name': 'npc_dota_hero_antimage', 'id': 1},\n",
       " {'name': 'npc_dota_hero_axe', 'id': 2},\n",
       " {'name': 'npc_dota_hero_bane', 'id': 3},\n",
       " {'name': 'npc_dota_hero_bloodseeker', 'id': 4},\n",
       " {'name': 'npc_dota_hero_crystal_maiden', 'id': 5}]"
      ]
     },
     "execution_count": 93,
     "metadata": {},
     "output_type": "execute_result"
    }
   ],
   "source": [
    "heroes[:5]"
   ]
  },
  {
   "cell_type": "code",
   "execution_count": null,
   "id": "1ee1ddf2",
   "metadata": {},
   "outputs": [],
   "source": []
  }
 ],
 "metadata": {
  "kernelspec": {
   "display_name": "Python 3 (ipykernel)",
   "language": "python",
   "name": "python3"
  },
  "language_info": {
   "codemirror_mode": {
    "name": "ipython",
    "version": 3
   },
   "file_extension": ".py",
   "mimetype": "text/x-python",
   "name": "python",
   "nbconvert_exporter": "python",
   "pygments_lexer": "ipython3",
   "version": "3.10.11"
  }
 },
 "nbformat": 4,
 "nbformat_minor": 5
}
