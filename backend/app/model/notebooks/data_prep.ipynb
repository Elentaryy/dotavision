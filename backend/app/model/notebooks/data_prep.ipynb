{
 "cells": [
  {
   "cell_type": "code",
   "execution_count": 2,
   "id": "30cdc1c5",
   "metadata": {},
   "outputs": [],
   "source": [
    "import pandas as pd\n",
    "import numpy as np\n",
    "import matplotlib.pyplot as plt"
   ]
  },
  {
   "cell_type": "code",
   "execution_count": 3,
   "id": "b3d0539d",
   "metadata": {},
   "outputs": [],
   "source": [
    "import ast"
   ]
  },
  {
   "cell_type": "code",
   "execution_count": 4,
   "id": "34f8cf15",
   "metadata": {},
   "outputs": [
    {
     "name": "stdout",
     "output_type": "stream",
     "text": [
      "2.0.2\n"
     ]
    }
   ],
   "source": [
    "print(pd.__version__)"
   ]
  },
  {
   "cell_type": "code",
   "execution_count": 5,
   "id": "44c56c1b",
   "metadata": {},
   "outputs": [],
   "source": [
    "import warnings\n",
    "warnings.filterwarnings('ignore')"
   ]
  },
  {
   "cell_type": "code",
   "execution_count": 6,
   "id": "657c73f8",
   "metadata": {},
   "outputs": [],
   "source": [
    "df = pd.read_csv('data/detailed_matches.csv')"
   ]
  },
  {
   "cell_type": "code",
   "execution_count": 7,
   "id": "2c3e844e",
   "metadata": {},
   "outputs": [
    {
     "data": {
      "text/plain": [
       "(26099, 2)"
      ]
     },
     "execution_count": 7,
     "metadata": {},
     "output_type": "execute_result"
    }
   ],
   "source": [
    "df.shape"
   ]
  },
  {
   "cell_type": "code",
   "execution_count": 8,
   "id": "137b8b89",
   "metadata": {},
   "outputs": [
    {
     "data": {
      "text/html": [
       "<div>\n",
       "<style scoped>\n",
       "    .dataframe tbody tr th:only-of-type {\n",
       "        vertical-align: middle;\n",
       "    }\n",
       "\n",
       "    .dataframe tbody tr th {\n",
       "        vertical-align: top;\n",
       "    }\n",
       "\n",
       "    .dataframe thead th {\n",
       "        text-align: right;\n",
       "    }\n",
       "</style>\n",
       "<table border=\"1\" class=\"dataframe\">\n",
       "  <thead>\n",
       "    <tr style=\"text-align: right;\">\n",
       "      <th></th>\n",
       "      <th>match_id</th>\n",
       "      <th>data</th>\n",
       "    </tr>\n",
       "  </thead>\n",
       "  <tbody>\n",
       "    <tr>\n",
       "      <th>0</th>\n",
       "      <td>7194183433</td>\n",
       "      <td>{'result': {'players': [{'account_id': 9170670...</td>\n",
       "    </tr>\n",
       "    <tr>\n",
       "      <th>1</th>\n",
       "      <td>7194159264</td>\n",
       "      <td>{'result': {'players': [{'account_id': 1470752...</td>\n",
       "    </tr>\n",
       "    <tr>\n",
       "      <th>2</th>\n",
       "      <td>7194108785</td>\n",
       "      <td>{'result': {'players': [{'account_id': 1402517...</td>\n",
       "    </tr>\n",
       "    <tr>\n",
       "      <th>3</th>\n",
       "      <td>7194103293</td>\n",
       "      <td>{'result': {'players': [{'account_id': 1525266...</td>\n",
       "    </tr>\n",
       "    <tr>\n",
       "      <th>4</th>\n",
       "      <td>7194092128</td>\n",
       "      <td>{'result': {'players': [{'account_id': 3550429...</td>\n",
       "    </tr>\n",
       "    <tr>\n",
       "      <th>5</th>\n",
       "      <td>7194076021</td>\n",
       "      <td>{'result': {'players': [{'account_id': 1545290...</td>\n",
       "    </tr>\n",
       "    <tr>\n",
       "      <th>6</th>\n",
       "      <td>7194068615</td>\n",
       "      <td>{'result': {'players': [{'account_id': 2362143...</td>\n",
       "    </tr>\n",
       "    <tr>\n",
       "      <th>7</th>\n",
       "      <td>7194041424</td>\n",
       "      <td>{'result': {'players': [{'account_id': 1425359...</td>\n",
       "    </tr>\n",
       "    <tr>\n",
       "      <th>8</th>\n",
       "      <td>7194026082</td>\n",
       "      <td>{'result': {'players': [{'account_id': 1734807...</td>\n",
       "    </tr>\n",
       "    <tr>\n",
       "      <th>9</th>\n",
       "      <td>7194014163</td>\n",
       "      <td>{'result': {'players': [{'account_id': 3127228...</td>\n",
       "    </tr>\n",
       "  </tbody>\n",
       "</table>\n",
       "</div>"
      ],
      "text/plain": [
       "     match_id                                               data\n",
       "0  7194183433  {'result': {'players': [{'account_id': 9170670...\n",
       "1  7194159264  {'result': {'players': [{'account_id': 1470752...\n",
       "2  7194108785  {'result': {'players': [{'account_id': 1402517...\n",
       "3  7194103293  {'result': {'players': [{'account_id': 1525266...\n",
       "4  7194092128  {'result': {'players': [{'account_id': 3550429...\n",
       "5  7194076021  {'result': {'players': [{'account_id': 1545290...\n",
       "6  7194068615  {'result': {'players': [{'account_id': 2362143...\n",
       "7  7194041424  {'result': {'players': [{'account_id': 1425359...\n",
       "8  7194026082  {'result': {'players': [{'account_id': 1734807...\n",
       "9  7194014163  {'result': {'players': [{'account_id': 3127228..."
      ]
     },
     "execution_count": 8,
     "metadata": {},
     "output_type": "execute_result"
    }
   ],
   "source": [
    "df.head(10)"
   ]
  },
  {
   "cell_type": "code",
   "execution_count": 9,
   "id": "a9637bc7",
   "metadata": {},
   "outputs": [
    {
     "data": {
      "text/plain": [
       "match_id    0\n",
       "data        0\n",
       "dtype: int64"
      ]
     },
     "execution_count": 9,
     "metadata": {},
     "output_type": "execute_result"
    }
   ],
   "source": [
    "df.isna().sum()"
   ]
  },
  {
   "cell_type": "code",
   "execution_count": 10,
   "id": "202a5c19",
   "metadata": {},
   "outputs": [],
   "source": [
    "df = df.dropna()"
   ]
  },
  {
   "cell_type": "code",
   "execution_count": 11,
   "id": "4601e389",
   "metadata": {},
   "outputs": [
    {
     "data": {
      "text/plain": [
       "(26099, 2)"
      ]
     },
     "execution_count": 11,
     "metadata": {},
     "output_type": "execute_result"
    }
   ],
   "source": [
    "df.shape"
   ]
  },
  {
   "cell_type": "code",
   "execution_count": 12,
   "id": "a16e8445",
   "metadata": {},
   "outputs": [],
   "source": [
    "df['data'] = df['data'].apply(ast.literal_eval)"
   ]
  },
  {
   "cell_type": "code",
   "execution_count": 13,
   "id": "55be8d21",
   "metadata": {},
   "outputs": [],
   "source": [
    "df['dt'] = df[\"data\"].apply(lambda x: x.get(\"result\", {}).get(\"start_time\"))\n",
    "df['dt'] = pd.to_datetime(df['dt'], unit='s')"
   ]
  },
  {
   "cell_type": "code",
   "execution_count": 14,
   "id": "f03d5bea",
   "metadata": {},
   "outputs": [],
   "source": [
    "df['league_id'] = df[\"data\"].apply(lambda x: x.get(\"result\", {}).get(\"league_id\"))"
   ]
  },
  {
   "cell_type": "code",
   "execution_count": 61,
   "id": "5ab70dff",
   "metadata": {},
   "outputs": [],
   "source": [
    "df['year'] = df['dt'].dt.year\n",
    "df['month'] = df['dt'].dt.month\n",
    "df['day'] = df['dt'].dt.day\n",
    "\n",
    "df = df.drop(columns = ['dt', 'match_id'])"
   ]
  },
  {
   "cell_type": "code",
   "execution_count": 62,
   "id": "a9d4b825",
   "metadata": {},
   "outputs": [],
   "source": [
    "all_hero_ids = set(range(1, 141))\n",
    "\n",
    "#Create a column for every hero/team combo with a flag 0 1 if hero was picked for that team\n",
    "for hero_id in all_hero_ids:\n",
    "    for team_number in range(2):\n",
    "        column_name = f'hero_{hero_id}_team_{team_number}'\n",
    "        df[column_name] = df['data'].apply(lambda x: 1 if any(player.get('hero_id') == hero_id \\\n",
    "                                 and player.get('team_number') == team_number for player in x.get('result', {}).get('players', [])) else 0)"
   ]
  },
  {
   "cell_type": "code",
   "execution_count": 63,
   "id": "26f26d78",
   "metadata": {},
   "outputs": [],
   "source": [
    "df['result'] = df['data'].apply(lambda x: 1 if x.get('result', {}).get('radiant_win') else 0)\n",
    "df[\"duration\"] = df[\"data\"].apply(lambda x: x.get(\"result\", {}).get(\"duration\"))\n",
    "df[\"score\"] = df[\"data\"].apply(lambda x: x.get(\"result\", {}).get(\"radiant_score\") +  x.get(\"result\", {}).get(\"dire_score\"))"
   ]
  },
  {
   "cell_type": "code",
   "execution_count": 64,
   "id": "c7ba673e",
   "metadata": {},
   "outputs": [
    {
     "data": {
      "text/plain": [
       "result\n",
       "0    13592\n",
       "1    12507\n",
       "Name: result, dtype: int64"
      ]
     },
     "execution_count": 64,
     "metadata": {},
     "output_type": "execute_result"
    }
   ],
   "source": [
    "df.groupby(['result'])['result'].count()"
   ]
  },
  {
   "cell_type": "code",
   "execution_count": 65,
   "id": "52058886",
   "metadata": {},
   "outputs": [
    {
     "data": {
      "text/html": [
       "<div>\n",
       "<style scoped>\n",
       "    .dataframe tbody tr th:only-of-type {\n",
       "        vertical-align: middle;\n",
       "    }\n",
       "\n",
       "    .dataframe tbody tr th {\n",
       "        vertical-align: top;\n",
       "    }\n",
       "\n",
       "    .dataframe thead th {\n",
       "        text-align: right;\n",
       "    }\n",
       "</style>\n",
       "<table border=\"1\" class=\"dataframe\">\n",
       "  <thead>\n",
       "    <tr style=\"text-align: right;\">\n",
       "      <th></th>\n",
       "      <th>data</th>\n",
       "      <th>year</th>\n",
       "      <th>month</th>\n",
       "      <th>day</th>\n",
       "      <th>hero_1_team_0</th>\n",
       "      <th>hero_1_team_1</th>\n",
       "      <th>hero_2_team_0</th>\n",
       "      <th>hero_2_team_1</th>\n",
       "      <th>hero_3_team_0</th>\n",
       "      <th>hero_3_team_1</th>\n",
       "      <th>...</th>\n",
       "      <th>hero_137_team_1</th>\n",
       "      <th>hero_138_team_0</th>\n",
       "      <th>hero_138_team_1</th>\n",
       "      <th>hero_139_team_0</th>\n",
       "      <th>hero_139_team_1</th>\n",
       "      <th>hero_140_team_0</th>\n",
       "      <th>hero_140_team_1</th>\n",
       "      <th>result</th>\n",
       "      <th>duration</th>\n",
       "      <th>score</th>\n",
       "    </tr>\n",
       "  </thead>\n",
       "  <tbody>\n",
       "    <tr>\n",
       "      <th>0</th>\n",
       "      <td>{'result': {'players': [{'account_id': 9170670...</td>\n",
       "      <td>2023</td>\n",
       "      <td>6</td>\n",
       "      <td>10</td>\n",
       "      <td>0</td>\n",
       "      <td>0</td>\n",
       "      <td>0</td>\n",
       "      <td>0</td>\n",
       "      <td>0</td>\n",
       "      <td>0</td>\n",
       "      <td>...</td>\n",
       "      <td>0</td>\n",
       "      <td>0</td>\n",
       "      <td>0</td>\n",
       "      <td>0</td>\n",
       "      <td>0</td>\n",
       "      <td>0</td>\n",
       "      <td>0</td>\n",
       "      <td>1</td>\n",
       "      <td>1119</td>\n",
       "      <td>34</td>\n",
       "    </tr>\n",
       "    <tr>\n",
       "      <th>1</th>\n",
       "      <td>{'result': {'players': [{'account_id': 1470752...</td>\n",
       "      <td>2023</td>\n",
       "      <td>6</td>\n",
       "      <td>10</td>\n",
       "      <td>0</td>\n",
       "      <td>0</td>\n",
       "      <td>0</td>\n",
       "      <td>0</td>\n",
       "      <td>0</td>\n",
       "      <td>0</td>\n",
       "      <td>...</td>\n",
       "      <td>0</td>\n",
       "      <td>0</td>\n",
       "      <td>0</td>\n",
       "      <td>0</td>\n",
       "      <td>0</td>\n",
       "      <td>0</td>\n",
       "      <td>0</td>\n",
       "      <td>1</td>\n",
       "      <td>2404</td>\n",
       "      <td>100</td>\n",
       "    </tr>\n",
       "    <tr>\n",
       "      <th>2</th>\n",
       "      <td>{'result': {'players': [{'account_id': 1402517...</td>\n",
       "      <td>2023</td>\n",
       "      <td>6</td>\n",
       "      <td>10</td>\n",
       "      <td>0</td>\n",
       "      <td>0</td>\n",
       "      <td>0</td>\n",
       "      <td>0</td>\n",
       "      <td>0</td>\n",
       "      <td>0</td>\n",
       "      <td>...</td>\n",
       "      <td>0</td>\n",
       "      <td>0</td>\n",
       "      <td>1</td>\n",
       "      <td>0</td>\n",
       "      <td>0</td>\n",
       "      <td>0</td>\n",
       "      <td>0</td>\n",
       "      <td>0</td>\n",
       "      <td>1294</td>\n",
       "      <td>36</td>\n",
       "    </tr>\n",
       "    <tr>\n",
       "      <th>3</th>\n",
       "      <td>{'result': {'players': [{'account_id': 1525266...</td>\n",
       "      <td>2023</td>\n",
       "      <td>6</td>\n",
       "      <td>10</td>\n",
       "      <td>0</td>\n",
       "      <td>0</td>\n",
       "      <td>0</td>\n",
       "      <td>0</td>\n",
       "      <td>0</td>\n",
       "      <td>0</td>\n",
       "      <td>...</td>\n",
       "      <td>0</td>\n",
       "      <td>0</td>\n",
       "      <td>0</td>\n",
       "      <td>0</td>\n",
       "      <td>0</td>\n",
       "      <td>0</td>\n",
       "      <td>0</td>\n",
       "      <td>0</td>\n",
       "      <td>1784</td>\n",
       "      <td>79</td>\n",
       "    </tr>\n",
       "    <tr>\n",
       "      <th>4</th>\n",
       "      <td>{'result': {'players': [{'account_id': 3550429...</td>\n",
       "      <td>2023</td>\n",
       "      <td>6</td>\n",
       "      <td>10</td>\n",
       "      <td>0</td>\n",
       "      <td>0</td>\n",
       "      <td>0</td>\n",
       "      <td>0</td>\n",
       "      <td>0</td>\n",
       "      <td>0</td>\n",
       "      <td>...</td>\n",
       "      <td>0</td>\n",
       "      <td>0</td>\n",
       "      <td>0</td>\n",
       "      <td>0</td>\n",
       "      <td>0</td>\n",
       "      <td>0</td>\n",
       "      <td>0</td>\n",
       "      <td>1</td>\n",
       "      <td>1942</td>\n",
       "      <td>36</td>\n",
       "    </tr>\n",
       "    <tr>\n",
       "      <th>5</th>\n",
       "      <td>{'result': {'players': [{'account_id': 1545290...</td>\n",
       "      <td>2023</td>\n",
       "      <td>6</td>\n",
       "      <td>10</td>\n",
       "      <td>0</td>\n",
       "      <td>0</td>\n",
       "      <td>0</td>\n",
       "      <td>0</td>\n",
       "      <td>0</td>\n",
       "      <td>0</td>\n",
       "      <td>...</td>\n",
       "      <td>0</td>\n",
       "      <td>0</td>\n",
       "      <td>0</td>\n",
       "      <td>0</td>\n",
       "      <td>0</td>\n",
       "      <td>0</td>\n",
       "      <td>0</td>\n",
       "      <td>1</td>\n",
       "      <td>2311</td>\n",
       "      <td>71</td>\n",
       "    </tr>\n",
       "    <tr>\n",
       "      <th>6</th>\n",
       "      <td>{'result': {'players': [{'account_id': 2362143...</td>\n",
       "      <td>2023</td>\n",
       "      <td>6</td>\n",
       "      <td>10</td>\n",
       "      <td>0</td>\n",
       "      <td>0</td>\n",
       "      <td>0</td>\n",
       "      <td>0</td>\n",
       "      <td>0</td>\n",
       "      <td>0</td>\n",
       "      <td>...</td>\n",
       "      <td>0</td>\n",
       "      <td>0</td>\n",
       "      <td>0</td>\n",
       "      <td>0</td>\n",
       "      <td>0</td>\n",
       "      <td>0</td>\n",
       "      <td>0</td>\n",
       "      <td>0</td>\n",
       "      <td>3012</td>\n",
       "      <td>88</td>\n",
       "    </tr>\n",
       "    <tr>\n",
       "      <th>7</th>\n",
       "      <td>{'result': {'players': [{'account_id': 1425359...</td>\n",
       "      <td>2023</td>\n",
       "      <td>6</td>\n",
       "      <td>10</td>\n",
       "      <td>0</td>\n",
       "      <td>0</td>\n",
       "      <td>0</td>\n",
       "      <td>0</td>\n",
       "      <td>0</td>\n",
       "      <td>0</td>\n",
       "      <td>...</td>\n",
       "      <td>0</td>\n",
       "      <td>0</td>\n",
       "      <td>1</td>\n",
       "      <td>0</td>\n",
       "      <td>0</td>\n",
       "      <td>0</td>\n",
       "      <td>0</td>\n",
       "      <td>0</td>\n",
       "      <td>1931</td>\n",
       "      <td>77</td>\n",
       "    </tr>\n",
       "    <tr>\n",
       "      <th>8</th>\n",
       "      <td>{'result': {'players': [{'account_id': 1734807...</td>\n",
       "      <td>2023</td>\n",
       "      <td>6</td>\n",
       "      <td>10</td>\n",
       "      <td>0</td>\n",
       "      <td>0</td>\n",
       "      <td>0</td>\n",
       "      <td>0</td>\n",
       "      <td>0</td>\n",
       "      <td>0</td>\n",
       "      <td>...</td>\n",
       "      <td>0</td>\n",
       "      <td>0</td>\n",
       "      <td>0</td>\n",
       "      <td>0</td>\n",
       "      <td>0</td>\n",
       "      <td>0</td>\n",
       "      <td>0</td>\n",
       "      <td>0</td>\n",
       "      <td>1356</td>\n",
       "      <td>40</td>\n",
       "    </tr>\n",
       "    <tr>\n",
       "      <th>9</th>\n",
       "      <td>{'result': {'players': [{'account_id': 3127228...</td>\n",
       "      <td>2023</td>\n",
       "      <td>6</td>\n",
       "      <td>10</td>\n",
       "      <td>0</td>\n",
       "      <td>0</td>\n",
       "      <td>0</td>\n",
       "      <td>0</td>\n",
       "      <td>0</td>\n",
       "      <td>0</td>\n",
       "      <td>...</td>\n",
       "      <td>0</td>\n",
       "      <td>0</td>\n",
       "      <td>0</td>\n",
       "      <td>0</td>\n",
       "      <td>0</td>\n",
       "      <td>0</td>\n",
       "      <td>0</td>\n",
       "      <td>1</td>\n",
       "      <td>1943</td>\n",
       "      <td>60</td>\n",
       "    </tr>\n",
       "  </tbody>\n",
       "</table>\n",
       "<p>10 rows × 287 columns</p>\n",
       "</div>"
      ],
      "text/plain": [
       "                                                data  year  month  day  \\\n",
       "0  {'result': {'players': [{'account_id': 9170670...  2023      6   10   \n",
       "1  {'result': {'players': [{'account_id': 1470752...  2023      6   10   \n",
       "2  {'result': {'players': [{'account_id': 1402517...  2023      6   10   \n",
       "3  {'result': {'players': [{'account_id': 1525266...  2023      6   10   \n",
       "4  {'result': {'players': [{'account_id': 3550429...  2023      6   10   \n",
       "5  {'result': {'players': [{'account_id': 1545290...  2023      6   10   \n",
       "6  {'result': {'players': [{'account_id': 2362143...  2023      6   10   \n",
       "7  {'result': {'players': [{'account_id': 1425359...  2023      6   10   \n",
       "8  {'result': {'players': [{'account_id': 1734807...  2023      6   10   \n",
       "9  {'result': {'players': [{'account_id': 3127228...  2023      6   10   \n",
       "\n",
       "   hero_1_team_0  hero_1_team_1  hero_2_team_0  hero_2_team_1  hero_3_team_0  \\\n",
       "0              0              0              0              0              0   \n",
       "1              0              0              0              0              0   \n",
       "2              0              0              0              0              0   \n",
       "3              0              0              0              0              0   \n",
       "4              0              0              0              0              0   \n",
       "5              0              0              0              0              0   \n",
       "6              0              0              0              0              0   \n",
       "7              0              0              0              0              0   \n",
       "8              0              0              0              0              0   \n",
       "9              0              0              0              0              0   \n",
       "\n",
       "   hero_3_team_1  ...  hero_137_team_1  hero_138_team_0  hero_138_team_1  \\\n",
       "0              0  ...                0                0                0   \n",
       "1              0  ...                0                0                0   \n",
       "2              0  ...                0                0                1   \n",
       "3              0  ...                0                0                0   \n",
       "4              0  ...                0                0                0   \n",
       "5              0  ...                0                0                0   \n",
       "6              0  ...                0                0                0   \n",
       "7              0  ...                0                0                1   \n",
       "8              0  ...                0                0                0   \n",
       "9              0  ...                0                0                0   \n",
       "\n",
       "   hero_139_team_0  hero_139_team_1  hero_140_team_0  hero_140_team_1  result  \\\n",
       "0                0                0                0                0       1   \n",
       "1                0                0                0                0       1   \n",
       "2                0                0                0                0       0   \n",
       "3                0                0                0                0       0   \n",
       "4                0                0                0                0       1   \n",
       "5                0                0                0                0       1   \n",
       "6                0                0                0                0       0   \n",
       "7                0                0                0                0       0   \n",
       "8                0                0                0                0       0   \n",
       "9                0                0                0                0       1   \n",
       "\n",
       "   duration  score  \n",
       "0      1119     34  \n",
       "1      2404    100  \n",
       "2      1294     36  \n",
       "3      1784     79  \n",
       "4      1942     36  \n",
       "5      2311     71  \n",
       "6      3012     88  \n",
       "7      1931     77  \n",
       "8      1356     40  \n",
       "9      1943     60  \n",
       "\n",
       "[10 rows x 287 columns]"
      ]
     },
     "execution_count": 65,
     "metadata": {},
     "output_type": "execute_result"
    }
   ],
   "source": [
    "df.head(10)"
   ]
  },
  {
   "cell_type": "code",
   "execution_count": 68,
   "id": "d54c6d2a",
   "metadata": {},
   "outputs": [],
   "source": [
    "df = df.drop(columns = ['data'])"
   ]
  },
  {
   "cell_type": "code",
   "execution_count": 69,
   "id": "e3605a4c",
   "metadata": {},
   "outputs": [],
   "source": [
    "df.to_csv('data/heroes.csv', index=False)"
   ]
  },
  {
   "cell_type": "code",
   "execution_count": null,
   "id": "c8cc6a30",
   "metadata": {},
   "outputs": [],
   "source": []
  }
 ],
 "metadata": {
  "kernelspec": {
   "display_name": "Python 3 (ipykernel)",
   "language": "python",
   "name": "python3"
  },
  "language_info": {
   "codemirror_mode": {
    "name": "ipython",
    "version": 3
   },
   "file_extension": ".py",
   "mimetype": "text/x-python",
   "name": "python",
   "nbconvert_exporter": "python",
   "pygments_lexer": "ipython3",
   "version": "3.10.11"
  }
 },
 "nbformat": 4,
 "nbformat_minor": 5
}
