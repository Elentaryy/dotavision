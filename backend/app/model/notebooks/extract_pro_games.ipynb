{
 "cells": [
  {
   "cell_type": "code",
   "execution_count": 2,
   "id": "3d7cddde",
   "metadata": {},
   "outputs": [],
   "source": [
    "import pandas as pd\n",
    "import numpy as np\n",
    "import matplotlib.pyplot as plt\n",
    "import requests\n",
    "import logging\n",
    "from time import sleep\n",
    "import os\n",
    "from dotenv import load_dotenv"
   ]
  },
  {
   "cell_type": "code",
   "execution_count": 3,
   "id": "4376f940",
   "metadata": {},
   "outputs": [
    {
     "data": {
      "text/plain": [
       "True"
      ]
     },
     "execution_count": 3,
     "metadata": {},
     "output_type": "execute_result"
    }
   ],
   "source": [
    "load_dotenv()"
   ]
  },
  {
   "cell_type": "code",
   "execution_count": 3,
   "id": "a7a478b1",
   "metadata": {},
   "outputs": [],
   "source": [
    "logger = logging.getLogger('pro_data_extraction')"
   ]
  },
  {
   "cell_type": "code",
   "execution_count": 4,
   "id": "b2b63ada",
   "metadata": {},
   "outputs": [],
   "source": [
    "import warnings\n",
    "warnings.filterwarnings('ignore')"
   ]
  },
  {
   "cell_type": "code",
   "execution_count": 4,
   "id": "f9881572",
   "metadata": {},
   "outputs": [],
   "source": [
    "API_KEY = os.getenv('STEAM_API_KEY')"
   ]
  },
  {
   "cell_type": "code",
   "execution_count": 7,
   "id": "93267c65",
   "metadata": {},
   "outputs": [],
   "source": [
    "#Extract game ids from all professional leagues\n",
    "from time import sleep\n",
    "\n",
    "API_URL = 'https://api.opendota.com/api'\n",
    "\n",
    "def get_pro_matches(match_id: int, total_matches: int) -> pd.DataFrame:\n",
    "    \n",
    "    params = {\n",
    "    \"lobby_type\": 1,  \n",
    "    \"limit\": 100,\n",
    "    \"less_than_match_id\": match_id\n",
    "    }\n",
    "    \n",
    "    matches_per_request = params[\"limit\"]\n",
    "    num_requests = total_matches // matches_per_request\n",
    "    \n",
    "    df = pd.DataFrame()\n",
    "    \n",
    "    \n",
    "    for _ in range(num_requests):\n",
    "        sleep(1)\n",
    "        try:\n",
    "            response = requests.get(f'{API_URL}/proMatches', params=params)\n",
    "\n",
    "            if response.status_code == 200:\n",
    "                data = response.json()\n",
    "\n",
    "                match_ids =  [match['match_id'] for match in data]\n",
    "\n",
    "                match_df = pd.DataFrame({\n",
    "                    \"match_id\": match_ids\n",
    "                })\n",
    "\n",
    "                df = pd.concat((df, match_df))\n",
    "            else:\n",
    "                logger.info(f'Something went wrong while requesting opendota API {response.status_code}, {response.text}')\n",
    "        except Exception as e:\n",
    "            logger.info(f'Something went wrong {str(e)}')\n",
    "            \n",
    "        if len(df) >= total_matches:\n",
    "            break\n",
    "            \n",
    "    df['match_id'] = df['match_id'].astype('Int64')\n",
    "    return df\n",
    "    "
   ]
  },
  {
   "cell_type": "code",
   "execution_count": 8,
   "id": "74bb788b",
   "metadata": {},
   "outputs": [
    {
     "name": "stderr",
     "output_type": "stream",
     "text": [
      "\n",
      "KeyboardInterrupt\n",
      "\n"
     ]
    }
   ],
   "source": [
    "df_test = get_pro_matches(7223482365, 15000)"
   ]
  },
  {
   "cell_type": "code",
   "execution_count": null,
   "id": "869ddaac",
   "metadata": {},
   "outputs": [],
   "source": [
    "df_test.head(10)"
   ]
  },
  {
   "cell_type": "code",
   "execution_count": null,
   "id": "3d40ff2b",
   "metadata": {},
   "outputs": [],
   "source": [
    "len(df_test)"
   ]
  },
  {
   "cell_type": "code",
   "execution_count": null,
   "id": "513875b0",
   "metadata": {},
   "outputs": [],
   "source": [
    "df_test.to_csv('data/opendota_pro_games.csv')"
   ]
  },
  {
   "cell_type": "code",
   "execution_count": 13,
   "id": "3fe1948d",
   "metadata": {},
   "outputs": [],
   "source": [
    "#Get detailed information about each game by it's game id\n",
    "API_URL = f\"https://api.steampowered.com/IDOTA2Match_570/GetMatchDetails/v1/?key={API_KEY}\"\n",
    "\n",
    "def get_match_details(match_id: int):\n",
    "    url = f\"{API_URL}&match_id={match_id}\"\n",
    "    try:\n",
    "        response = requests.get(url)\n",
    "        if response.status_code == 200:\n",
    "            match_data = response.json()\n",
    "            return match_data\n",
    "        else:\n",
    "            logger.info(f\"Error occurred while fetching match details for match ID {match_id}, {response.status_code}, {response.text}.\")\n",
    "            return None\n",
    "    except:\n",
    "        logger.info(f'{response.status_code}')\n",
    "        return None\n",
    "\n",
    "def process_matches(df: pd.DataFrame) -> pd.DataFrame:\n",
    "    data_list = []\n",
    "\n",
    "    for index, row in df.iterrows():\n",
    "        sleep(0.1)\n",
    "        match_id = row[\"match_id\"]\n",
    "        try:\n",
    "            match_data = get_match_details(match_id)\n",
    "        except Exception as e: \n",
    "            logger.info(f'Error while executing get_match_details {str(e)}')\n",
    "\n",
    "        if match_data:\n",
    "            data_list.append(match_data) \n",
    "        else:\n",
    "            data_list.append(None)\n",
    "    df[\"data\"] = data_list\n",
    "\n",
    "    return df"
   ]
  },
  {
   "cell_type": "code",
   "execution_count": 15,
   "id": "af88c660",
   "metadata": {},
   "outputs": [],
   "source": [
    "df_with_details = process_matches(df_test)"
   ]
  },
  {
   "cell_type": "code",
   "execution_count": 16,
   "id": "59e794c3",
   "metadata": {},
   "outputs": [
    {
     "data": {
      "text/html": [
       "<div>\n",
       "<style scoped>\n",
       "    .dataframe tbody tr th:only-of-type {\n",
       "        vertical-align: middle;\n",
       "    }\n",
       "\n",
       "    .dataframe tbody tr th {\n",
       "        vertical-align: top;\n",
       "    }\n",
       "\n",
       "    .dataframe thead th {\n",
       "        text-align: right;\n",
       "    }\n",
       "</style>\n",
       "<table border=\"1\" class=\"dataframe\">\n",
       "  <thead>\n",
       "    <tr style=\"text-align: right;\">\n",
       "      <th></th>\n",
       "      <th>match_id</th>\n",
       "      <th>data</th>\n",
       "    </tr>\n",
       "  </thead>\n",
       "  <tbody>\n",
       "    <tr>\n",
       "      <th>0</th>\n",
       "      <td>7206650897</td>\n",
       "      <td>{'result': {'players': [{'account_id': 1300455...</td>\n",
       "    </tr>\n",
       "    <tr>\n",
       "      <th>1</th>\n",
       "      <td>7206631794</td>\n",
       "      <td>{'result': {'players': [{'account_id': 2414674...</td>\n",
       "    </tr>\n",
       "    <tr>\n",
       "      <th>2</th>\n",
       "      <td>7206622803</td>\n",
       "      <td>{'result': {'players': [{'account_id': 1336821...</td>\n",
       "    </tr>\n",
       "    <tr>\n",
       "      <th>3</th>\n",
       "      <td>7206609235</td>\n",
       "      <td>{'result': {'players': [{'account_id': 1524712...</td>\n",
       "    </tr>\n",
       "    <tr>\n",
       "      <th>4</th>\n",
       "      <td>7206592298</td>\n",
       "      <td>{'result': {'players': [{'account_id': 1133046...</td>\n",
       "    </tr>\n",
       "    <tr>\n",
       "      <th>5</th>\n",
       "      <td>7206579005</td>\n",
       "      <td>{'result': {'players': [{'account_id': 1300455...</td>\n",
       "    </tr>\n",
       "    <tr>\n",
       "      <th>6</th>\n",
       "      <td>7206576475</td>\n",
       "      <td>{'result': {'players': [{'account_id': 2362143...</td>\n",
       "    </tr>\n",
       "    <tr>\n",
       "      <th>7</th>\n",
       "      <td>7206549622</td>\n",
       "      <td>{'result': {'players': [{'account_id': 1200963...</td>\n",
       "    </tr>\n",
       "    <tr>\n",
       "      <th>8</th>\n",
       "      <td>7206543514</td>\n",
       "      <td>{'result': {'players': [{'account_id': 1525150...</td>\n",
       "    </tr>\n",
       "    <tr>\n",
       "      <th>9</th>\n",
       "      <td>7206530094</td>\n",
       "      <td>{'result': {'players': [{'account_id': 3204234...</td>\n",
       "    </tr>\n",
       "  </tbody>\n",
       "</table>\n",
       "</div>"
      ],
      "text/plain": [
       "     match_id                                               data\n",
       "0  7206650897  {'result': {'players': [{'account_id': 1300455...\n",
       "1  7206631794  {'result': {'players': [{'account_id': 2414674...\n",
       "2  7206622803  {'result': {'players': [{'account_id': 1336821...\n",
       "3  7206609235  {'result': {'players': [{'account_id': 1524712...\n",
       "4  7206592298  {'result': {'players': [{'account_id': 1133046...\n",
       "5  7206579005  {'result': {'players': [{'account_id': 1300455...\n",
       "6  7206576475  {'result': {'players': [{'account_id': 2362143...\n",
       "7  7206549622  {'result': {'players': [{'account_id': 1200963...\n",
       "8  7206543514  {'result': {'players': [{'account_id': 1525150...\n",
       "9  7206530094  {'result': {'players': [{'account_id': 3204234..."
      ]
     },
     "execution_count": 16,
     "metadata": {},
     "output_type": "execute_result"
    }
   ],
   "source": [
    "df_with_details.head(10)"
   ]
  },
  {
   "cell_type": "code",
   "execution_count": 17,
   "id": "7ea4cce1",
   "metadata": {},
   "outputs": [
    {
     "data": {
      "text/plain": [
       "200"
      ]
     },
     "execution_count": 17,
     "metadata": {},
     "output_type": "execute_result"
    }
   ],
   "source": [
    "len(df_with_details)"
   ]
  },
  {
   "cell_type": "code",
   "execution_count": 21,
   "id": "faf26ff9",
   "metadata": {},
   "outputs": [
    {
     "data": {
      "text/plain": [
       "match_id    0\n",
       "data        0\n",
       "dtype: int64"
      ]
     },
     "execution_count": 21,
     "metadata": {},
     "output_type": "execute_result"
    }
   ],
   "source": [
    "df_with_details.isna().sum()"
   ]
  },
  {
   "cell_type": "code",
   "execution_count": 22,
   "id": "541b41bb",
   "metadata": {},
   "outputs": [],
   "source": [
    "df_with_details = df_with_details.dropna()"
   ]
  },
  {
   "cell_type": "code",
   "execution_count": 23,
   "id": "91abb492",
   "metadata": {},
   "outputs": [
    {
     "data": {
      "text/plain": [
       "200"
      ]
     },
     "execution_count": 23,
     "metadata": {},
     "output_type": "execute_result"
    }
   ],
   "source": [
    "len(df_with_details)"
   ]
  },
  {
   "cell_type": "code",
   "execution_count": 5,
   "id": "8aed59e7",
   "metadata": {},
   "outputs": [],
   "source": [
    "#Retrieve hero_name - id dictionary\n",
    "API_URL = f\"http://api.steampowered.com/IEconDOTA2_570/GetHeroes/v1?key={API_KEY}\"\n",
    "\n",
    "response = requests.get(API_URL)\n",
    "\n",
    "if response.status_code == 200:\n",
    "    data = response.json()\n",
    "    heroes = data[\"result\"][\"heroes\"]\n",
    "\n",
    "else:\n",
    "    print(\"Error occurred while fetching hero data.\")\n"
   ]
  },
  {
   "cell_type": "code",
   "execution_count": 6,
   "id": "3e5bb805",
   "metadata": {},
   "outputs": [
    {
     "data": {
      "text/plain": [
       "[{'name': 'npc_dota_hero_antimage', 'id': 1},\n",
       " {'name': 'npc_dota_hero_axe', 'id': 2},\n",
       " {'name': 'npc_dota_hero_bane', 'id': 3},\n",
       " {'name': 'npc_dota_hero_bloodseeker', 'id': 4},\n",
       " {'name': 'npc_dota_hero_crystal_maiden', 'id': 5},\n",
       " {'name': 'npc_dota_hero_drow_ranger', 'id': 6},\n",
       " {'name': 'npc_dota_hero_earthshaker', 'id': 7},\n",
       " {'name': 'npc_dota_hero_juggernaut', 'id': 8},\n",
       " {'name': 'npc_dota_hero_mirana', 'id': 9},\n",
       " {'name': 'npc_dota_hero_nevermore', 'id': 11},\n",
       " {'name': 'npc_dota_hero_morphling', 'id': 10},\n",
       " {'name': 'npc_dota_hero_phantom_lancer', 'id': 12},\n",
       " {'name': 'npc_dota_hero_puck', 'id': 13},\n",
       " {'name': 'npc_dota_hero_pudge', 'id': 14},\n",
       " {'name': 'npc_dota_hero_razor', 'id': 15},\n",
       " {'name': 'npc_dota_hero_sand_king', 'id': 16},\n",
       " {'name': 'npc_dota_hero_storm_spirit', 'id': 17},\n",
       " {'name': 'npc_dota_hero_sven', 'id': 18},\n",
       " {'name': 'npc_dota_hero_tiny', 'id': 19},\n",
       " {'name': 'npc_dota_hero_vengefulspirit', 'id': 20},\n",
       " {'name': 'npc_dota_hero_windrunner', 'id': 21},\n",
       " {'name': 'npc_dota_hero_zuus', 'id': 22},\n",
       " {'name': 'npc_dota_hero_kunkka', 'id': 23},\n",
       " {'name': 'npc_dota_hero_lina', 'id': 25},\n",
       " {'name': 'npc_dota_hero_lich', 'id': 31},\n",
       " {'name': 'npc_dota_hero_lion', 'id': 26},\n",
       " {'name': 'npc_dota_hero_shadow_shaman', 'id': 27},\n",
       " {'name': 'npc_dota_hero_slardar', 'id': 28},\n",
       " {'name': 'npc_dota_hero_tidehunter', 'id': 29},\n",
       " {'name': 'npc_dota_hero_witch_doctor', 'id': 30},\n",
       " {'name': 'npc_dota_hero_riki', 'id': 32},\n",
       " {'name': 'npc_dota_hero_enigma', 'id': 33},\n",
       " {'name': 'npc_dota_hero_tinker', 'id': 34},\n",
       " {'name': 'npc_dota_hero_sniper', 'id': 35},\n",
       " {'name': 'npc_dota_hero_necrolyte', 'id': 36},\n",
       " {'name': 'npc_dota_hero_warlock', 'id': 37},\n",
       " {'name': 'npc_dota_hero_beastmaster', 'id': 38},\n",
       " {'name': 'npc_dota_hero_queenofpain', 'id': 39},\n",
       " {'name': 'npc_dota_hero_venomancer', 'id': 40},\n",
       " {'name': 'npc_dota_hero_faceless_void', 'id': 41},\n",
       " {'name': 'npc_dota_hero_skeleton_king', 'id': 42},\n",
       " {'name': 'npc_dota_hero_death_prophet', 'id': 43},\n",
       " {'name': 'npc_dota_hero_phantom_assassin', 'id': 44},\n",
       " {'name': 'npc_dota_hero_pugna', 'id': 45},\n",
       " {'name': 'npc_dota_hero_templar_assassin', 'id': 46},\n",
       " {'name': 'npc_dota_hero_viper', 'id': 47},\n",
       " {'name': 'npc_dota_hero_luna', 'id': 48},\n",
       " {'name': 'npc_dota_hero_dragon_knight', 'id': 49},\n",
       " {'name': 'npc_dota_hero_dazzle', 'id': 50},\n",
       " {'name': 'npc_dota_hero_rattletrap', 'id': 51},\n",
       " {'name': 'npc_dota_hero_leshrac', 'id': 52},\n",
       " {'name': 'npc_dota_hero_furion', 'id': 53},\n",
       " {'name': 'npc_dota_hero_life_stealer', 'id': 54},\n",
       " {'name': 'npc_dota_hero_dark_seer', 'id': 55},\n",
       " {'name': 'npc_dota_hero_clinkz', 'id': 56},\n",
       " {'name': 'npc_dota_hero_omniknight', 'id': 57},\n",
       " {'name': 'npc_dota_hero_enchantress', 'id': 58},\n",
       " {'name': 'npc_dota_hero_huskar', 'id': 59},\n",
       " {'name': 'npc_dota_hero_night_stalker', 'id': 60},\n",
       " {'name': 'npc_dota_hero_broodmother', 'id': 61},\n",
       " {'name': 'npc_dota_hero_bounty_hunter', 'id': 62},\n",
       " {'name': 'npc_dota_hero_weaver', 'id': 63},\n",
       " {'name': 'npc_dota_hero_jakiro', 'id': 64},\n",
       " {'name': 'npc_dota_hero_batrider', 'id': 65},\n",
       " {'name': 'npc_dota_hero_chen', 'id': 66},\n",
       " {'name': 'npc_dota_hero_spectre', 'id': 67},\n",
       " {'name': 'npc_dota_hero_doom_bringer', 'id': 69},\n",
       " {'name': 'npc_dota_hero_ancient_apparition', 'id': 68},\n",
       " {'name': 'npc_dota_hero_ursa', 'id': 70},\n",
       " {'name': 'npc_dota_hero_spirit_breaker', 'id': 71},\n",
       " {'name': 'npc_dota_hero_gyrocopter', 'id': 72},\n",
       " {'name': 'npc_dota_hero_alchemist', 'id': 73},\n",
       " {'name': 'npc_dota_hero_invoker', 'id': 74},\n",
       " {'name': 'npc_dota_hero_silencer', 'id': 75},\n",
       " {'name': 'npc_dota_hero_obsidian_destroyer', 'id': 76},\n",
       " {'name': 'npc_dota_hero_lycan', 'id': 77},\n",
       " {'name': 'npc_dota_hero_brewmaster', 'id': 78},\n",
       " {'name': 'npc_dota_hero_shadow_demon', 'id': 79},\n",
       " {'name': 'npc_dota_hero_lone_druid', 'id': 80},\n",
       " {'name': 'npc_dota_hero_chaos_knight', 'id': 81},\n",
       " {'name': 'npc_dota_hero_meepo', 'id': 82},\n",
       " {'name': 'npc_dota_hero_treant', 'id': 83},\n",
       " {'name': 'npc_dota_hero_ogre_magi', 'id': 84},\n",
       " {'name': 'npc_dota_hero_undying', 'id': 85},\n",
       " {'name': 'npc_dota_hero_rubick', 'id': 86},\n",
       " {'name': 'npc_dota_hero_disruptor', 'id': 87},\n",
       " {'name': 'npc_dota_hero_nyx_assassin', 'id': 88},\n",
       " {'name': 'npc_dota_hero_naga_siren', 'id': 89},\n",
       " {'name': 'npc_dota_hero_keeper_of_the_light', 'id': 90},\n",
       " {'name': 'npc_dota_hero_wisp', 'id': 91},\n",
       " {'name': 'npc_dota_hero_visage', 'id': 92},\n",
       " {'name': 'npc_dota_hero_slark', 'id': 93},\n",
       " {'name': 'npc_dota_hero_medusa', 'id': 94},\n",
       " {'name': 'npc_dota_hero_troll_warlord', 'id': 95},\n",
       " {'name': 'npc_dota_hero_centaur', 'id': 96},\n",
       " {'name': 'npc_dota_hero_magnataur', 'id': 97},\n",
       " {'name': 'npc_dota_hero_shredder', 'id': 98},\n",
       " {'name': 'npc_dota_hero_bristleback', 'id': 99},\n",
       " {'name': 'npc_dota_hero_tusk', 'id': 100},\n",
       " {'name': 'npc_dota_hero_skywrath_mage', 'id': 101},\n",
       " {'name': 'npc_dota_hero_abaddon', 'id': 102},\n",
       " {'name': 'npc_dota_hero_elder_titan', 'id': 103},\n",
       " {'name': 'npc_dota_hero_legion_commander', 'id': 104},\n",
       " {'name': 'npc_dota_hero_ember_spirit', 'id': 106},\n",
       " {'name': 'npc_dota_hero_earth_spirit', 'id': 107},\n",
       " {'name': 'npc_dota_hero_terrorblade', 'id': 109},\n",
       " {'name': 'npc_dota_hero_phoenix', 'id': 110},\n",
       " {'name': 'npc_dota_hero_oracle', 'id': 111},\n",
       " {'name': 'npc_dota_hero_techies', 'id': 105},\n",
       " {'name': 'npc_dota_hero_winter_wyvern', 'id': 112},\n",
       " {'name': 'npc_dota_hero_arc_warden', 'id': 113},\n",
       " {'name': 'npc_dota_hero_abyssal_underlord', 'id': 108},\n",
       " {'name': 'npc_dota_hero_monkey_king', 'id': 114},\n",
       " {'name': 'npc_dota_hero_pangolier', 'id': 120},\n",
       " {'name': 'npc_dota_hero_dark_willow', 'id': 119},\n",
       " {'name': 'npc_dota_hero_grimstroke', 'id': 121},\n",
       " {'name': 'npc_dota_hero_mars', 'id': 129},\n",
       " {'name': 'npc_dota_hero_void_spirit', 'id': 126},\n",
       " {'name': 'npc_dota_hero_snapfire', 'id': 128},\n",
       " {'name': 'npc_dota_hero_hoodwink', 'id': 123},\n",
       " {'name': 'npc_dota_hero_dawnbreaker', 'id': 135},\n",
       " {'name': 'npc_dota_hero_marci', 'id': 136},\n",
       " {'name': 'npc_dota_hero_primal_beast', 'id': 137},\n",
       " {'name': 'npc_dota_hero_muerta', 'id': 138}]"
      ]
     },
     "execution_count": 6,
     "metadata": {},
     "output_type": "execute_result"
    }
   ],
   "source": [
    "heroes"
   ]
  },
  {
   "cell_type": "code",
   "execution_count": null,
   "id": "1ee1ddf2",
   "metadata": {},
   "outputs": [],
   "source": []
  }
 ],
 "metadata": {
  "kernelspec": {
   "display_name": "Python 3 (ipykernel)",
   "language": "python",
   "name": "python3"
  },
  "language_info": {
   "codemirror_mode": {
    "name": "ipython",
    "version": 3
   },
   "file_extension": ".py",
   "mimetype": "text/x-python",
   "name": "python",
   "nbconvert_exporter": "python",
   "pygments_lexer": "ipython3",
   "version": "3.10.11"
  }
 },
 "nbformat": 4,
 "nbformat_minor": 5
}
